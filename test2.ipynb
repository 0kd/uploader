{
 "cells": [
  {
   "cell_type": "code",
   "execution_count": null,
   "metadata": {},
   "outputs": [],
   "source": [
    "%matplotlib inline\n",
    "import matplotlib.pyplot as plt\n",
    "import numpy as np"
   ]
  },
  {
   "cell_type": "code",
   "execution_count": null,
   "metadata": {},
   "outputs": [],
   "source": [
    "from qutip import *"
   ]
  },
  {
   "cell_type": "code",
   "execution_count": null,
   "metadata": {},
   "outputs": [],
   "source": [
    "import plotly.graph_objects as go\n",
    "from plotly.subplots import make_subplots\n",
    "import plotly.offline as offline"
   ]
  },
  {
   "cell_type": "code",
   "execution_count": null,
   "metadata": {},
   "outputs": [],
   "source": [
    "from ipywidgets import interact"
   ]
  },
  {
   "cell_type": "code",
   "execution_count": null,
   "metadata": {},
   "outputs": [],
   "source": [
    "import warnings\n",
    "import itertools as it\n",
    "import numpy as np\n",
    "from numpy import pi, array, sin, cos, angle, log2, sqrt\n",
    "\n",
    "try:\n",
    "    import matplotlib.pyplot as plt\n",
    "    import matplotlib as mpl\n",
    "    from matplotlib import cm\n",
    "    from mpl_toolkits.mplot3d import Axes3D\n",
    "except:\n",
    "    pass\n",
    "\n",
    "from qutip.qobj import Qobj, isket\n",
    "from qutip.states import ket2dm\n",
    "from qutip.wigner import wigner\n",
    "from qutip.tensor import tensor\n",
    "from qutip.matplotlib_utilities import complex_phase_cmap\n",
    "from qutip.superoperator import vector_to_operator\n",
    "from qutip.superop_reps import to_super, _super_to_superpauli, _isqubitdims, _pauli_basis\n",
    "from qutip.tensor import flatten\n",
    "\n",
    "from qutip import settings"
   ]
  },
  {
   "cell_type": "code",
   "execution_count": null,
   "metadata": {},
   "outputs": [],
   "source": [
    "offline.init_notebook_mode()"
   ]
  },
  {
   "cell_type": "markdown",
   "metadata": {},
   "source": [
    "## Parameters"
   ]
  },
  {
   "cell_type": "code",
   "execution_count": null,
   "metadata": {},
   "outputs": [],
   "source": [
    "N = 20"
   ]
  },
  {
   "cell_type": "code",
   "execution_count": null,
   "metadata": {},
   "outputs": [],
   "source": [
    "def plot_wigner2(rho, fig=None, ax=None, figsize=(6, 6),\n",
    "                cmap='Rdbu', alpha_max=7.5, colorbar=True,\n",
    "                method='clenshaw', projection='2d'):\n",
    "    \"\"\"\n",
    "    Plot the the Wigner function for a density matrix (or ket) that describes\n",
    "    an oscillator mode.\n",
    "    Parameters\n",
    "    ----------\n",
    "    rho : :class:`qutip.qobj.Qobj`\n",
    "        The density matrix (or ket) of the state to visualize.\n",
    "    fig : a matplotlib Figure instance\n",
    "        The Figure canvas in which the plot will be drawn.\n",
    "    ax : a matplotlib axes instance\n",
    "        The axes context in which the plot will be drawn.\n",
    "    figsize : (width, height)\n",
    "        The size of the matplotlib figure (in inches) if it is to be created\n",
    "        (that is, if no 'fig' and 'ax' arguments are passed).\n",
    "    cmap : a matplotlib cmap instance\n",
    "        The colormap.\n",
    "    alpha_max : float\n",
    "        The span of the x and y coordinates (both [-alpha_max, alpha_max]).\n",
    "    colorbar : bool\n",
    "        Whether (True) or not (False) a colorbar should be attached to the\n",
    "        Wigner function graph.\n",
    "    method : string {'clenshaw', 'iterative', 'laguerre', 'fft'}\n",
    "        The method used for calculating the wigner function. See the\n",
    "        documentation for qutip.wigner for details.\n",
    "    projection: string {'2d', '3d'}\n",
    "        Specify whether the Wigner function is to be plotted as a\n",
    "        contour graph ('2d') or surface plot ('3d').\n",
    "    Returns\n",
    "    -------\n",
    "    fig, ax : tuple\n",
    "        A tuple of the matplotlib figure and axes instances used to produce\n",
    "        the figure.\n",
    "    \"\"\"\n",
    "\n",
    "    if isket(rho):\n",
    "        rho = ket2dm(rho)\n",
    "\n",
    "    xvec = np.linspace(-alpha_max, alpha_max, 200)\n",
    "    W0 = wigner(rho, xvec, xvec, method=method)\n",
    "    W, yvec = W0 if type(W0) is tuple else (W0, xvec)\n",
    "    wlim = abs(W).max()\n",
    "    \n",
    "    if projection == '2d': \n",
    "        df = go.Heatmap(\n",
    "                            z=W, x=xvec, y=yvec, connectgaps=True, zsmooth='best', \n",
    "                            colorscale=cmap, zmid=0, showscale=colorbar)\n",
    "        return df\n",
    "\n",
    "    elif projection == '3d':\n",
    "        plofig = dict(type='surface', x=xvec, y=yvec, z=W0, colorscale=cmap, \n",
    "                   cmin=-wlim, cmax=wlim, showscale=colorbar)\n",
    "        return plofig\n",
    "\n",
    "    else:\n",
    "        raise ValueError('Unexpected value of projection keyword argument.')"
   ]
  },
  {
   "cell_type": "code",
   "execution_count": null,
   "metadata": {},
   "outputs": [],
   "source": [
    "def plot_wigner_2d_3d2(psi):\n",
    "    plofig = make_subplots(rows=1, cols=2, specs=[[{'is_3d': False}, {'is_3d': True}]])\n",
    "    fig2d = plot_wigner2(psi,  alpha_max=6)\n",
    "    fig3d = plot_wigner2(psi,  alpha_max=6, projection='3d')\n",
    "    plofig.append_trace(fig2d, 1, 1)\n",
    "    plofig.append_trace(fig3d, 1, 2)\n",
    "    offline.iplot(plofig)"
   ]
  },
  {
   "cell_type": "markdown",
   "metadata": {},
   "source": [
    "## Vacuum state: $\\left|0\\right>$"
   ]
  },
  {
   "cell_type": "code",
   "execution_count": null,
   "metadata": {
    "scrolled": true
   },
   "outputs": [],
   "source": [
    "psi = basis(N, 0)\n",
    "plot_wigner_2d_3d2(psi)"
   ]
  },
  {
   "cell_type": "markdown",
   "metadata": {},
   "source": [
    "## Thermal states"
   ]
  },
  {
   "cell_type": "code",
   "execution_count": null,
   "metadata": {},
   "outputs": [],
   "source": [
    "psi = thermal_dm(N, 2)\n",
    "plot_wigner_2d_3d2(psi)"
   ]
  },
  {
   "cell_type": "markdown",
   "metadata": {},
   "source": [
    "## Coherent states: $\\left|\\alpha\\right>$"
   ]
  },
  {
   "cell_type": "code",
   "execution_count": null,
   "metadata": {},
   "outputs": [],
   "source": [
    "psi = coherent(N, 2.0)\n",
    "plot_wigner_2d_3d2(psi)"
   ]
  },
  {
   "cell_type": "code",
   "execution_count": null,
   "metadata": {},
   "outputs": [],
   "source": [
    "psi = coherent(N, -1.0)\n",
    "plot_wigner_2d_3d2(psi)"
   ]
  },
  {
   "cell_type": "markdown",
   "metadata": {},
   "source": [
    "## superposition of coherent states"
   ]
  },
  {
   "cell_type": "code",
   "execution_count": null,
   "metadata": {},
   "outputs": [],
   "source": [
    "psi = (coherent(N, -2.0) + coherent(N, 2.0)) / np.sqrt(2)\n",
    "plot_wigner_2d_3d2(psi)"
   ]
  },
  {
   "cell_type": "code",
   "execution_count": null,
   "metadata": {},
   "outputs": [],
   "source": [
    "psi = (coherent(N, -2.0) - coherent(N, 2.0)) / np.sqrt(2)\n",
    "plot_wigner_2d_3d2(psi)"
   ]
  },
  {
   "cell_type": "code",
   "execution_count": null,
   "metadata": {},
   "outputs": [],
   "source": [
    "psi = (coherent(N, -2.0) + coherent(N, -2j) + coherent(N, 2j) + coherent(N, 2.0)).unit()\n",
    "plot_wigner_2d_3d2(psi)"
   ]
  },
  {
   "cell_type": "code",
   "execution_count": null,
   "metadata": {},
   "outputs": [],
   "source": [
    "psi = (coherent(N, -2.0) + coherent(N, -1j) + coherent(N, 1j) + coherent(N, 2.0)).unit()\n",
    "plot_wigner_2d_3d2(psi)"
   ]
  },
  {
   "cell_type": "code",
   "execution_count": null,
   "metadata": {
    "scrolled": false
   },
   "outputs": [],
   "source": [
    "# NN = 8\n",
    "# \n",
    "# for n in range(NN):\n",
    "#     psi = sum([coherent(N, 2*np.exp(2j * np.pi * m / (n + 2))) for m in range(n + 2)]).unit()\n",
    "#     plot_wigner_2d_3d2(psi)"
   ]
  },
  {
   "cell_type": "code",
   "execution_count": null,
   "metadata": {},
   "outputs": [],
   "source": [
    "NN = 8\n",
    "\n",
    "def intecoh(i):\n",
    "    psi = sum([coherent(N, 2*np.exp(2j * np.pi * m / (n + 2))) for m in range(n + 2)]).unit()\n",
    "    plot_wigner_2d_3d2(psi)\n",
    "    \n",
    "interact(intecoh, i=list(range(NN)))"
   ]
  },
  {
   "cell_type": "markdown",
   "metadata": {},
   "source": [
    "### mixture of coherent states"
   ]
  },
  {
   "cell_type": "code",
   "execution_count": null,
   "metadata": {},
   "outputs": [],
   "source": [
    "psi = (coherent_dm(N, -2.0) + coherent_dm(N, 2.0)) / np.sqrt(2)\n",
    "plot_wigner_2d_3d2(psi)"
   ]
  },
  {
   "cell_type": "markdown",
   "metadata": {},
   "source": [
    "## Fock states: $\\left|n\\right>$"
   ]
  },
  {
   "cell_type": "code",
   "execution_count": null,
   "metadata": {},
   "outputs": [],
   "source": [
    "from IPython.display import display"
   ]
  },
  {
   "cell_type": "code",
   "execution_count": null,
   "metadata": {},
   "outputs": [],
   "source": [
    "# for n in range(6):\n",
    "#     psi = basis(N, n)\n",
    "#     plot_wigner_2d_3d2(psi)"
   ]
  },
  {
   "cell_type": "code",
   "execution_count": null,
   "metadata": {},
   "outputs": [],
   "source": [
    "def drgr(i):\n",
    "        plot_wigner_2d_3d2(basis(N, i))\n",
    "interact(drgr, i=list(range(10)))"
   ]
  },
  {
   "cell_type": "markdown",
   "metadata": {},
   "source": [
    "## Superposition of Fock states"
   ]
  },
  {
   "cell_type": "code",
   "execution_count": null,
   "metadata": {},
   "outputs": [],
   "source": [
    "# NN = MM = 5\n",
    "# \n",
    "# plofig = make_subplots(rows=NN, cols=MM)\n",
    "# \n",
    "# for n in range(NN):\n",
    "#     for m in range(MM):\n",
    "#         psi = (fock(N, n) + fock(N, m)).unit()\n",
    "#         plofig.append_trace(plot_wigner2(psi, colorbar=False), n+1, m+1)\n",
    "#         \n",
    "# offline.iplot(plofig)"
   ]
  },
  {
   "cell_type": "markdown",
   "metadata": {},
   "source": [
    "## Squeezed vacuum states"
   ]
  },
  {
   "cell_type": "code",
   "execution_count": null,
   "metadata": {},
   "outputs": [],
   "source": [
    "psi = squeeze(N, 0.5) * basis(N, 0)\n",
    "display(plot_wigner_2d_3d2(psi))\n",
    "\n",
    "psi = squeeze(N, 0.75j) * basis(N, 0)\n",
    "display(plot_wigner_2d_3d2(psi))\n",
    "\n",
    "psi = squeeze(N, -1) * basis(N, 0)\n",
    "display(plot_wigner_2d_3d2(psi))"
   ]
  },
  {
   "cell_type": "markdown",
   "metadata": {},
   "source": [
    "### Superposition of squeezed vacuum"
   ]
  },
  {
   "cell_type": "code",
   "execution_count": null,
   "metadata": {},
   "outputs": [],
   "source": [
    "psi = (squeeze(N, 0.75j) * basis(N, 0) - squeeze(N, -0.75j) * basis(N, 0)).unit()\n",
    "display(plot_wigner_2d_3d2(psi))"
   ]
  },
  {
   "cell_type": "code",
   "execution_count": null,
   "metadata": {},
   "outputs": [],
   "source": [
    "### Mixture of squeezed vacuum"
   ]
  },
  {
   "cell_type": "code",
   "execution_count": null,
   "metadata": {},
   "outputs": [],
   "source": [
    "psi = (ket2dm(squeeze(N, 0.75j) * basis(N, 0)) + ket2dm(squeeze(N, -0.75j) * basis(N, 0))).unit()\n",
    "display(plot_wigner_2d_3d2(psi))"
   ]
  },
  {
   "cell_type": "markdown",
   "metadata": {},
   "source": [
    "## Displaced squeezed vacuum"
   ]
  },
  {
   "cell_type": "code",
   "execution_count": null,
   "metadata": {},
   "outputs": [],
   "source": [
    "psi = displace(N, 2) * squeeze(N, 0.75) * basis(N, 0)\n",
    "display(plot_wigner_2d_3d2(psi))"
   ]
  },
  {
   "cell_type": "markdown",
   "metadata": {},
   "source": [
    "### Superposition of two displaced squeezed states"
   ]
  },
  {
   "cell_type": "code",
   "execution_count": null,
   "metadata": {},
   "outputs": [],
   "source": [
    "psi = (displace(N, -1) * squeeze(N, 0.75) * basis(N, 0) - displace(N, 1) * squeeze(N, -0.75) * basis(N, 0)).unit()\n",
    "display(plot_wigner_2d_3d2(psi))"
   ]
  },
  {
   "cell_type": "code",
   "execution_count": null,
   "metadata": {},
   "outputs": [],
   "source": [
    "from qutip.ipynbtools import version_table\n",
    "\n",
    "version_table()"
   ]
  }
 ],
 "metadata": {
  "kernelspec": {
   "display_name": "Python 3",
   "language": "python",
   "name": "python3"
  },
  "language_info": {
   "codemirror_mode": {
    "name": "ipython",
    "version": 3
   },
   "file_extension": ".py",
   "mimetype": "text/x-python",
   "name": "python",
   "nbconvert_exporter": "python",
   "pygments_lexer": "ipython3",
   "version": "3.8.1"
  }
 },
 "nbformat": 4,
 "nbformat_minor": 4
}
